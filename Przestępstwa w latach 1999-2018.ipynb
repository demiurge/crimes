{
 "cells": [
  {
   "cell_type": "code",
   "execution_count": 1,
   "metadata": {},
   "outputs": [],
   "source": [
    "import pandas as pd\n",
    "import numpy as np\n",
    "import xlrd"
   ]
  },
  {
   "cell_type": "markdown",
   "metadata": {},
   "source": [
    "Do odczytu plików xlsx __należy__ zainstalować dodatkowy pakiet **xlrd**\n",
    "Polecenie "
   ]
  },
  {
   "cell_type": "code",
   "execution_count": 2,
   "metadata": {},
   "outputs": [
    {
     "name": "stdout",
     "output_type": "stream",
     "text": [
      "Defaulting to user installation because normal site-packages is not writeable\n",
      "Requirement already satisfied: xlrd in /usr/lib/python3.8/site-packages (1.2.0)\n"
     ]
    }
   ],
   "source": [
    "!pip install xlrd"
   ]
  },
  {
   "cell_type": "markdown",
   "metadata": {},
   "source": [
    "Lub dla Anacondy"
   ]
  },
  {
   "cell_type": "code",
   "execution_count": 3,
   "metadata": {},
   "outputs": [
    {
     "name": "stdout",
     "output_type": "stream",
     "text": [
      "/usr/bin/sh: conda: nie znaleziono polecenia\r\n"
     ]
    }
   ],
   "source": [
    "!conda install --yes xlrd"
   ]
  },
  {
   "cell_type": "markdown",
   "metadata": {},
   "source": [
    "Ponówmy import bibliotek i odczytajmy plik przestępstwa."
   ]
  },
  {
   "cell_type": "code",
   "execution_count": 4,
   "metadata": {},
   "outputs": [
    {
     "data": {
      "text/html": [
       "<div>\n",
       "<style scoped>\n",
       "    .dataframe tbody tr th:only-of-type {\n",
       "        vertical-align: middle;\n",
       "    }\n",
       "\n",
       "    .dataframe tbody tr th {\n",
       "        vertical-align: top;\n",
       "    }\n",
       "\n",
       "    .dataframe thead th {\n",
       "        text-align: right;\n",
       "    }\n",
       "</style>\n",
       "<table border=\"1\" class=\"dataframe\">\n",
       "  <thead>\n",
       "    <tr style=\"text-align: right;\">\n",
       "      <th></th>\n",
       "      <th>Przestępstwa ogółem wg jednostek podziału administracyjnego kraju - przestępstwa stwierdzone, przestępstwa wykryte, % wykrycia.</th>\n",
       "      <th>Unnamed: 1</th>\n",
       "      <th>Unnamed: 2</th>\n",
       "      <th>Unnamed: 3</th>\n",
       "      <th>Unnamed: 4</th>\n",
       "    </tr>\n",
       "  </thead>\n",
       "  <tbody>\n",
       "    <tr>\n",
       "      <th>0</th>\n",
       "      <td>NaN</td>\n",
       "      <td>NaN</td>\n",
       "      <td>NaN</td>\n",
       "      <td>NaN</td>\n",
       "      <td>NaN</td>\n",
       "    </tr>\n",
       "    <tr>\n",
       "      <th>1</th>\n",
       "      <td>Jednostka podziału administracyjnego</td>\n",
       "      <td>Rok</td>\n",
       "      <td>Przestępstwa stwierdzone</td>\n",
       "      <td>Przestępstwa wykryte</td>\n",
       "      <td>% wykrycia</td>\n",
       "    </tr>\n",
       "    <tr>\n",
       "      <th>2</th>\n",
       "      <td>Polska</td>\n",
       "      <td>2018</td>\n",
       "      <td>768049</td>\n",
       "      <td>567775</td>\n",
       "      <td>73.3783</td>\n",
       "    </tr>\n",
       "    <tr>\n",
       "      <th>3</th>\n",
       "      <td>Polska</td>\n",
       "      <td>2017</td>\n",
       "      <td>753963</td>\n",
       "      <td>545008</td>\n",
       "      <td>71.7</td>\n",
       "    </tr>\n",
       "    <tr>\n",
       "      <th>4</th>\n",
       "      <td>Polska</td>\n",
       "      <td>2016</td>\n",
       "      <td>748459</td>\n",
       "      <td>501877</td>\n",
       "      <td>66.4854</td>\n",
       "    </tr>\n",
       "    <tr>\n",
       "      <th>...</th>\n",
       "      <td>...</td>\n",
       "      <td>...</td>\n",
       "      <td>...</td>\n",
       "      <td>...</td>\n",
       "      <td>...</td>\n",
       "    </tr>\n",
       "    <tr>\n",
       "      <th>380</th>\n",
       "      <td>teren działania KSP Warszawa</td>\n",
       "      <td>2000</td>\n",
       "      <td>117703</td>\n",
       "      <td>29671</td>\n",
       "      <td>25.2</td>\n",
       "    </tr>\n",
       "    <tr>\n",
       "      <th>381</th>\n",
       "      <td>teren działania KSP Warszawa</td>\n",
       "      <td>1999</td>\n",
       "      <td>90275</td>\n",
       "      <td>14501</td>\n",
       "      <td>16.1</td>\n",
       "    </tr>\n",
       "    <tr>\n",
       "      <th>382</th>\n",
       "      <td>NaN</td>\n",
       "      <td>NaN</td>\n",
       "      <td>NaN</td>\n",
       "      <td>NaN</td>\n",
       "      <td>NaN</td>\n",
       "    </tr>\n",
       "    <tr>\n",
       "      <th>383</th>\n",
       "      <td>NaN</td>\n",
       "      <td>NaN</td>\n",
       "      <td>NaN</td>\n",
       "      <td>NaN</td>\n",
       "      <td>NaN</td>\n",
       "    </tr>\n",
       "    <tr>\n",
       "      <th>384</th>\n",
       "      <td>UWAGA: W latach 2013-2018 przestępstwa stwierd...</td>\n",
       "      <td>NaN</td>\n",
       "      <td>NaN</td>\n",
       "      <td>NaN</td>\n",
       "      <td>NaN</td>\n",
       "    </tr>\n",
       "  </tbody>\n",
       "</table>\n",
       "<p>385 rows × 5 columns</p>\n",
       "</div>"
      ],
      "text/plain": [
       "    Przestępstwa ogółem wg jednostek podziału administracyjnego kraju - przestępstwa stwierdzone, przestępstwa wykryte, % wykrycia.  \\\n",
       "0                                                  NaN                                                                                \n",
       "1                 Jednostka podziału administracyjnego                                                                                \n",
       "2                                               Polska                                                                                \n",
       "3                                               Polska                                                                                \n",
       "4                                               Polska                                                                                \n",
       "..                                                 ...                                                                                \n",
       "380                       teren działania KSP Warszawa                                                                                \n",
       "381                       teren działania KSP Warszawa                                                                                \n",
       "382                                                NaN                                                                                \n",
       "383                                                NaN                                                                                \n",
       "384  UWAGA: W latach 2013-2018 przestępstwa stwierd...                                                                                \n",
       "\n",
       "    Unnamed: 1                Unnamed: 2            Unnamed: 3  Unnamed: 4  \n",
       "0          NaN                       NaN                   NaN         NaN  \n",
       "1          Rok  Przestępstwa stwierdzone  Przestępstwa wykryte  % wykrycia  \n",
       "2         2018                    768049                567775     73.3783  \n",
       "3         2017                    753963                545008        71.7  \n",
       "4         2016                    748459                501877     66.4854  \n",
       "..         ...                       ...                   ...         ...  \n",
       "380       2000                    117703                 29671        25.2  \n",
       "381       1999                     90275                 14501        16.1  \n",
       "382        NaN                       NaN                   NaN         NaN  \n",
       "383        NaN                       NaN                   NaN         NaN  \n",
       "384        NaN                       NaN                   NaN         NaN  \n",
       "\n",
       "[385 rows x 5 columns]"
      ]
     },
     "execution_count": 4,
     "metadata": {},
     "output_type": "execute_result"
    }
   ],
   "source": [
    "crimes = pd.read_excel(\"przestepstwa_stwierdzone_do_2018.xlsx\")\n",
    "crimes"
   ]
  },
  {
   "cell_type": "markdown",
   "metadata": {},
   "source": [
    "Odczytał nam pierwszy arkusz \"ogółem\". Aby poprawnie wyznaczyć obszar odczytu i określić z którego arkusza odczytujemy dane posłużmy się następującym poleceniem."
   ]
  },
  {
   "cell_type": "code",
   "execution_count": 5,
   "metadata": {},
   "outputs": [
    {
     "data": {
      "text/html": [
       "<div>\n",
       "<style scoped>\n",
       "    .dataframe tbody tr th:only-of-type {\n",
       "        vertical-align: middle;\n",
       "    }\n",
       "\n",
       "    .dataframe tbody tr th {\n",
       "        vertical-align: top;\n",
       "    }\n",
       "\n",
       "    .dataframe thead th {\n",
       "        text-align: right;\n",
       "    }\n",
       "</style>\n",
       "<table border=\"1\" class=\"dataframe\">\n",
       "  <thead>\n",
       "    <tr style=\"text-align: right;\">\n",
       "      <th></th>\n",
       "      <th>Jednostka podziału administracyjnego</th>\n",
       "      <th>Rok</th>\n",
       "      <th>Przestępstwa stwierdzone</th>\n",
       "      <th>Przestępstwa wykryte</th>\n",
       "      <th>% wykrycia</th>\n",
       "    </tr>\n",
       "  </thead>\n",
       "  <tbody>\n",
       "    <tr>\n",
       "      <th>0</th>\n",
       "      <td>Polska</td>\n",
       "      <td>2018</td>\n",
       "      <td>768049</td>\n",
       "      <td>567775</td>\n",
       "      <td>73.378319</td>\n",
       "    </tr>\n",
       "    <tr>\n",
       "      <th>1</th>\n",
       "      <td>Polska</td>\n",
       "      <td>2017</td>\n",
       "      <td>753963</td>\n",
       "      <td>545008</td>\n",
       "      <td>71.700000</td>\n",
       "    </tr>\n",
       "    <tr>\n",
       "      <th>2</th>\n",
       "      <td>Polska</td>\n",
       "      <td>2016</td>\n",
       "      <td>748459</td>\n",
       "      <td>501877</td>\n",
       "      <td>66.485357</td>\n",
       "    </tr>\n",
       "    <tr>\n",
       "      <th>3</th>\n",
       "      <td>Polska</td>\n",
       "      <td>2015</td>\n",
       "      <td>799779</td>\n",
       "      <td>524380</td>\n",
       "      <td>64.720134</td>\n",
       "    </tr>\n",
       "    <tr>\n",
       "      <th>4</th>\n",
       "      <td>Polska</td>\n",
       "      <td>2014</td>\n",
       "      <td>867855</td>\n",
       "      <td>573824</td>\n",
       "      <td>65.179275</td>\n",
       "    </tr>\n",
       "    <tr>\n",
       "      <th>...</th>\n",
       "      <td>...</td>\n",
       "      <td>...</td>\n",
       "      <td>...</td>\n",
       "      <td>...</td>\n",
       "      <td>...</td>\n",
       "    </tr>\n",
       "    <tr>\n",
       "      <th>375</th>\n",
       "      <td>teren działania KSP Warszawa</td>\n",
       "      <td>2003</td>\n",
       "      <td>128891</td>\n",
       "      <td>44931</td>\n",
       "      <td>34.700000</td>\n",
       "    </tr>\n",
       "    <tr>\n",
       "      <th>376</th>\n",
       "      <td>teren działania KSP Warszawa</td>\n",
       "      <td>2002</td>\n",
       "      <td>125604</td>\n",
       "      <td>43299</td>\n",
       "      <td>34.400000</td>\n",
       "    </tr>\n",
       "    <tr>\n",
       "      <th>377</th>\n",
       "      <td>teren działania KSP Warszawa</td>\n",
       "      <td>2001</td>\n",
       "      <td>121876</td>\n",
       "      <td>38414</td>\n",
       "      <td>31.400000</td>\n",
       "    </tr>\n",
       "    <tr>\n",
       "      <th>378</th>\n",
       "      <td>teren działania KSP Warszawa</td>\n",
       "      <td>2000</td>\n",
       "      <td>117703</td>\n",
       "      <td>29671</td>\n",
       "      <td>25.200000</td>\n",
       "    </tr>\n",
       "    <tr>\n",
       "      <th>379</th>\n",
       "      <td>teren działania KSP Warszawa</td>\n",
       "      <td>1999</td>\n",
       "      <td>90275</td>\n",
       "      <td>14501</td>\n",
       "      <td>16.100000</td>\n",
       "    </tr>\n",
       "  </tbody>\n",
       "</table>\n",
       "<p>380 rows × 5 columns</p>\n",
       "</div>"
      ],
      "text/plain": [
       "    Jednostka podziału administracyjnego   Rok  Przestępstwa stwierdzone  \\\n",
       "0                                 Polska  2018                    768049   \n",
       "1                                 Polska  2017                    753963   \n",
       "2                                 Polska  2016                    748459   \n",
       "3                                 Polska  2015                    799779   \n",
       "4                                 Polska  2014                    867855   \n",
       "..                                   ...   ...                       ...   \n",
       "375         teren działania KSP Warszawa  2003                    128891   \n",
       "376         teren działania KSP Warszawa  2002                    125604   \n",
       "377         teren działania KSP Warszawa  2001                    121876   \n",
       "378         teren działania KSP Warszawa  2000                    117703   \n",
       "379         teren działania KSP Warszawa  1999                     90275   \n",
       "\n",
       "     Przestępstwa wykryte  % wykrycia  \n",
       "0                  567775   73.378319  \n",
       "1                  545008   71.700000  \n",
       "2                  501877   66.485357  \n",
       "3                  524380   64.720134  \n",
       "4                  573824   65.179275  \n",
       "..                    ...         ...  \n",
       "375                 44931   34.700000  \n",
       "376                 43299   34.400000  \n",
       "377                 38414   31.400000  \n",
       "378                 29671   25.200000  \n",
       "379                 14501   16.100000  \n",
       "\n",
       "[380 rows x 5 columns]"
      ]
     },
     "execution_count": 5,
     "metadata": {},
     "output_type": "execute_result"
    }
   ],
   "source": [
    "crimes = pd.read_excel(\"przestepstwa_stwierdzone_do_2018.xlsx\", sheet_name=\"ogółem\", header=2, nrows=380)\n",
    "crimes"
   ]
  },
  {
   "cell_type": "markdown",
   "metadata": {},
   "source": [
    "sheet_name - nazwa arkusza, można też za pomocą numeru arkusza, w tym przypadku *sheet_name=1*\n",
    "\n",
    "header - w którym wierszu jest nagłówek \n",
    "\n",
    "nrows - ilość wierszy, które chcemy odczytać jako dane, ostatnie 3 wiersze usunęliśmy"
   ]
  },
  {
   "cell_type": "markdown",
   "metadata": {},
   "source": [
    "## Atrybuty"
   ]
  },
  {
   "cell_type": "code",
   "execution_count": 6,
   "metadata": {},
   "outputs": [],
   "source": [
    "columns = crimes.columns\n",
    "index = crimes.index\n",
    "data = crimes.to_numpy()"
   ]
  },
  {
   "cell_type": "code",
   "execution_count": 7,
   "metadata": {},
   "outputs": [
    {
     "data": {
      "text/plain": [
       "Index(['Jednostka podziału administracyjnego', 'Rok',\n",
       "       'Przestępstwa stwierdzone', 'Przestępstwa wykryte', '% wykrycia'],\n",
       "      dtype='object')"
      ]
     },
     "execution_count": 7,
     "metadata": {},
     "output_type": "execute_result"
    }
   ],
   "source": [
    "columns"
   ]
  },
  {
   "cell_type": "code",
   "execution_count": 8,
   "metadata": {},
   "outputs": [
    {
     "data": {
      "text/plain": [
       "RangeIndex(start=0, stop=380, step=1)"
      ]
     },
     "execution_count": 8,
     "metadata": {},
     "output_type": "execute_result"
    }
   ],
   "source": [
    "index"
   ]
  },
  {
   "cell_type": "code",
   "execution_count": 9,
   "metadata": {},
   "outputs": [
    {
     "data": {
      "text/plain": [
       "array([['Polska', 2018, 768049, 567775, 73.3783187866211],\n",
       "       ['Polska', 2017, 753963, 545008, 71.7],\n",
       "       ['Polska', 2016, 748459, 501877, 66.485356535378],\n",
       "       ...,\n",
       "       ['teren działania KSP Warszawa', 2001, 121876, 38414, 31.4],\n",
       "       ['teren działania KSP Warszawa', 2000, 117703, 29671, 25.2],\n",
       "       ['teren działania KSP Warszawa', 1999, 90275, 14501, 16.1]],\n",
       "      dtype=object)"
      ]
     },
     "execution_count": 9,
     "metadata": {},
     "output_type": "execute_result"
    }
   ],
   "source": [
    "data"
   ]
  },
  {
   "cell_type": "code",
   "execution_count": 10,
   "metadata": {},
   "outputs": [
    {
     "data": {
      "text/plain": [
       "Jednostka podziału administracyjnego     object\n",
       "Rok                                       int64\n",
       "Przestępstwa stwierdzone                  int64\n",
       "Przestępstwa wykryte                      int64\n",
       "% wykrycia                              float64\n",
       "dtype: object"
      ]
     },
     "execution_count": 10,
     "metadata": {},
     "output_type": "execute_result"
    }
   ],
   "source": [
    "crimes.dtypes"
   ]
  },
  {
   "cell_type": "code",
   "execution_count": 11,
   "metadata": {},
   "outputs": [
    {
     "data": {
      "text/plain": [
       "int64      3\n",
       "float64    1\n",
       "object     1\n",
       "dtype: int64"
      ]
     },
     "execution_count": 11,
     "metadata": {},
     "output_type": "execute_result"
    }
   ],
   "source": [
    "crimes.dtypes.value_counts()"
   ]
  },
  {
   "cell_type": "code",
   "execution_count": 12,
   "metadata": {},
   "outputs": [
    {
     "name": "stdout",
     "output_type": "stream",
     "text": [
      "<class 'pandas.core.frame.DataFrame'>\n",
      "RangeIndex: 380 entries, 0 to 379\n",
      "Data columns (total 5 columns):\n",
      " #   Column                                Non-Null Count  Dtype  \n",
      "---  ------                                --------------  -----  \n",
      " 0   Jednostka podziału administracyjnego  380 non-null    object \n",
      " 1   Rok                                   380 non-null    int64  \n",
      " 2   Przestępstwa stwierdzone              380 non-null    int64  \n",
      " 3   Przestępstwa wykryte                  380 non-null    int64  \n",
      " 4   % wykrycia                            380 non-null    float64\n",
      "dtypes: float64(1), int64(3), object(1)\n",
      "memory usage: 15.0+ KB\n"
     ]
    }
   ],
   "source": [
    "crimes.info()"
   ]
  },
  {
   "cell_type": "markdown",
   "metadata": {},
   "source": [
    "Na wszystkie 380 wierszy, wszytkie kolumny są wypełnione."
   ]
  },
  {
   "cell_type": "markdown",
   "metadata": {},
   "source": [
    "## Wartości"
   ]
  },
  {
   "cell_type": "code",
   "execution_count": 13,
   "metadata": {},
   "outputs": [
    {
     "data": {
      "text/plain": [
       "0      2018\n",
       "1      2017\n",
       "2      2016\n",
       "3      2015\n",
       "4      2014\n",
       "       ... \n",
       "375    2003\n",
       "376    2002\n",
       "377    2001\n",
       "378    2000\n",
       "379    1999\n",
       "Name: Rok, Length: 380, dtype: int64"
      ]
     },
     "execution_count": 13,
     "metadata": {},
     "output_type": "execute_result"
    }
   ],
   "source": [
    "crimes.Rok"
   ]
  },
  {
   "cell_type": "code",
   "execution_count": 14,
   "metadata": {},
   "outputs": [
    {
     "data": {
      "text/plain": [
       "2018    19\n",
       "2017    19\n",
       "2000    19\n",
       "2001    19\n",
       "2002    19\n",
       "2003    19\n",
       "2004    19\n",
       "2005    19\n",
       "2006    19\n",
       "2007    19\n",
       "2008    19\n",
       "2009    19\n",
       "2010    19\n",
       "2011    19\n",
       "2012    19\n",
       "2013    19\n",
       "2014    19\n",
       "2015    19\n",
       "2016    19\n",
       "1999    19\n",
       "Name: Rok, dtype: int64"
      ]
     },
     "execution_count": 14,
     "metadata": {},
     "output_type": "execute_result"
    }
   ],
   "source": [
    "crimes.Rok.value_counts()"
   ]
  },
  {
   "cell_type": "code",
   "execution_count": 15,
   "metadata": {},
   "outputs": [
    {
     "data": {
      "text/plain": [
       "0      768049\n",
       "1      753963\n",
       "2      748459\n",
       "3      799779\n",
       "4      867855\n",
       "        ...  \n",
       "375    128891\n",
       "376    125604\n",
       "377    121876\n",
       "378    117703\n",
       "379     90275\n",
       "Name: Przestępstwa stwierdzone, Length: 380, dtype: int64"
      ]
     },
     "execution_count": 15,
     "metadata": {},
     "output_type": "execute_result"
    }
   ],
   "source": [
    "crimes['Przestępstwa stwierdzone']"
   ]
  },
  {
   "cell_type": "code",
   "execution_count": 16,
   "metadata": {},
   "outputs": [
    {
     "data": {
      "text/plain": [
       "16460"
      ]
     },
     "execution_count": 16,
     "metadata": {},
     "output_type": "execute_result"
    }
   ],
   "source": [
    "crimes['Przestępstwa stwierdzone'].min()"
   ]
  },
  {
   "cell_type": "code",
   "execution_count": 17,
   "metadata": {},
   "outputs": [
    {
     "data": {
      "text/plain": [
       "1466643"
      ]
     },
     "execution_count": 17,
     "metadata": {},
     "output_type": "execute_result"
    }
   ],
   "source": [
    "crimes['Przestępstwa stwierdzone'].max()"
   ]
  },
  {
   "cell_type": "code",
   "execution_count": 18,
   "metadata": {},
   "outputs": [
    {
     "data": {
      "text/plain": [
       "126941.59210526316"
      ]
     },
     "execution_count": 18,
     "metadata": {},
     "output_type": "execute_result"
    }
   ],
   "source": [
    "crimes['Przestępstwa stwierdzone'].mean()"
   ]
  },
  {
   "cell_type": "code",
   "execution_count": 19,
   "metadata": {},
   "outputs": [
    {
     "data": {
      "text/plain": [
       "64688.5"
      ]
     },
     "execution_count": 19,
     "metadata": {},
     "output_type": "execute_result"
    }
   ],
   "source": [
    "crimes['Przestępstwa stwierdzone'].median()"
   ]
  },
  {
   "cell_type": "code",
   "execution_count": 20,
   "metadata": {},
   "outputs": [
    {
     "data": {
      "text/plain": [
       "count    3.800000e+02\n",
       "mean     1.269416e+05\n",
       "std      2.457124e+05\n",
       "min      1.646000e+04\n",
       "25%      3.869950e+04\n",
       "50%      6.468850e+04\n",
       "75%      1.042780e+05\n",
       "max      1.466643e+06\n",
       "Name: Przestępstwa stwierdzone, dtype: float64"
      ]
     },
     "execution_count": 20,
     "metadata": {},
     "output_type": "execute_result"
    }
   ],
   "source": [
    "crimes['Przestępstwa stwierdzone'].describe()"
   ]
  },
  {
   "cell_type": "markdown",
   "metadata": {},
   "source": [
    "## Wykresy"
   ]
  },
  {
   "cell_type": "code",
   "execution_count": 21,
   "metadata": {},
   "outputs": [
    {
     "data": {
      "text/plain": [
       "<matplotlib.axes._subplots.AxesSubplot at 0x7f104a33ab80>"
      ]
     },
     "execution_count": 21,
     "metadata": {},
     "output_type": "execute_result"
    },
    {
     "data": {
      "image/png": "[encoded data removed]",
      "text/plain": [
       "<Figure size 432x288 with 1 Axes>"
      ]
     },
     "metadata": {
      "needs_background": "light"
     },
     "output_type": "display_data"
    }
   ],
   "source": [
    "crimes['Przestępstwa stwierdzone'].hist(bins=100)"
   ]
  },
  {
   "cell_type": "code",
   "execution_count": 22,
   "metadata": {},
   "outputs": [],
   "source": [
    "crimes_in_Poland = crimes[crimes['Jednostka podziału administracyjnego']==\"Polska\"]"
   ]
  },
  {
   "cell_type": "code",
   "execution_count": 23,
   "metadata": {},
   "outputs": [
    {
     "data": {
      "text/html": [
       "<div>\n",
       "<style scoped>\n",
       "    .dataframe tbody tr th:only-of-type {\n",
       "        vertical-align: middle;\n",
       "    }\n",
       "\n",
       "    .dataframe tbody tr th {\n",
       "        vertical-align: top;\n",
       "    }\n",
       "\n",
       "    .dataframe thead th {\n",
       "        text-align: right;\n",
       "    }\n",
       "</style>\n",
       "<table border=\"1\" class=\"dataframe\">\n",
       "  <thead>\n",
       "    <tr style=\"text-align: right;\">\n",
       "      <th></th>\n",
       "      <th>Jednostka podziału administracyjnego</th>\n",
       "      <th>Rok</th>\n",
       "      <th>Przestępstwa stwierdzone</th>\n",
       "      <th>Przestępstwa wykryte</th>\n",
       "      <th>% wykrycia</th>\n",
       "    </tr>\n",
       "  </thead>\n",
       "  <tbody>\n",
       "    <tr>\n",
       "      <th>0</th>\n",
       "      <td>Polska</td>\n",
       "      <td>2018</td>\n",
       "      <td>768049</td>\n",
       "      <td>567775</td>\n",
       "      <td>73.378319</td>\n",
       "    </tr>\n",
       "    <tr>\n",
       "      <th>1</th>\n",
       "      <td>Polska</td>\n",
       "      <td>2017</td>\n",
       "      <td>753963</td>\n",
       "      <td>545008</td>\n",
       "      <td>71.700000</td>\n",
       "    </tr>\n",
       "    <tr>\n",
       "      <th>2</th>\n",
       "      <td>Polska</td>\n",
       "      <td>2016</td>\n",
       "      <td>748459</td>\n",
       "      <td>501877</td>\n",
       "      <td>66.485357</td>\n",
       "    </tr>\n",
       "    <tr>\n",
       "      <th>3</th>\n",
       "      <td>Polska</td>\n",
       "      <td>2015</td>\n",
       "      <td>799779</td>\n",
       "      <td>524380</td>\n",
       "      <td>64.720134</td>\n",
       "    </tr>\n",
       "    <tr>\n",
       "      <th>4</th>\n",
       "      <td>Polska</td>\n",
       "      <td>2014</td>\n",
       "      <td>867855</td>\n",
       "      <td>573824</td>\n",
       "      <td>65.179275</td>\n",
       "    </tr>\n",
       "    <tr>\n",
       "      <th>5</th>\n",
       "      <td>Polska</td>\n",
       "      <td>2013</td>\n",
       "      <td>1061237</td>\n",
       "      <td>720510</td>\n",
       "      <td>66.993961</td>\n",
       "    </tr>\n",
       "    <tr>\n",
       "      <th>6</th>\n",
       "      <td>Polska</td>\n",
       "      <td>2012</td>\n",
       "      <td>1119803</td>\n",
       "      <td>769604</td>\n",
       "      <td>67.800000</td>\n",
       "    </tr>\n",
       "    <tr>\n",
       "      <th>7</th>\n",
       "      <td>Polska</td>\n",
       "      <td>2011</td>\n",
       "      <td>1159554</td>\n",
       "      <td>807064</td>\n",
       "      <td>68.700000</td>\n",
       "    </tr>\n",
       "    <tr>\n",
       "      <th>8</th>\n",
       "      <td>Polska</td>\n",
       "      <td>2010</td>\n",
       "      <td>1138523</td>\n",
       "      <td>783428</td>\n",
       "      <td>67.900000</td>\n",
       "    </tr>\n",
       "    <tr>\n",
       "      <th>9</th>\n",
       "      <td>Polska</td>\n",
       "      <td>2009</td>\n",
       "      <td>1129577</td>\n",
       "      <td>766075</td>\n",
       "      <td>67.100000</td>\n",
       "    </tr>\n",
       "    <tr>\n",
       "      <th>10</th>\n",
       "      <td>Polska</td>\n",
       "      <td>2008</td>\n",
       "      <td>1082057</td>\n",
       "      <td>721925</td>\n",
       "      <td>65.900000</td>\n",
       "    </tr>\n",
       "    <tr>\n",
       "      <th>11</th>\n",
       "      <td>Polska</td>\n",
       "      <td>2007</td>\n",
       "      <td>1152993</td>\n",
       "      <td>752698</td>\n",
       "      <td>64.600000</td>\n",
       "    </tr>\n",
       "    <tr>\n",
       "      <th>12</th>\n",
       "      <td>Polska</td>\n",
       "      <td>2006</td>\n",
       "      <td>1287918</td>\n",
       "      <td>812347</td>\n",
       "      <td>62.400000</td>\n",
       "    </tr>\n",
       "    <tr>\n",
       "      <th>13</th>\n",
       "      <td>Polska</td>\n",
       "      <td>2005</td>\n",
       "      <td>1379962</td>\n",
       "      <td>816861</td>\n",
       "      <td>58.600000</td>\n",
       "    </tr>\n",
       "    <tr>\n",
       "      <th>14</th>\n",
       "      <td>Polska</td>\n",
       "      <td>2004</td>\n",
       "      <td>1461217</td>\n",
       "      <td>829079</td>\n",
       "      <td>56.200000</td>\n",
       "    </tr>\n",
       "    <tr>\n",
       "      <th>15</th>\n",
       "      <td>Polska</td>\n",
       "      <td>2003</td>\n",
       "      <td>1466643</td>\n",
       "      <td>815824</td>\n",
       "      <td>55.200000</td>\n",
       "    </tr>\n",
       "    <tr>\n",
       "      <th>16</th>\n",
       "      <td>Polska</td>\n",
       "      <td>2002</td>\n",
       "      <td>1404229</td>\n",
       "      <td>777326</td>\n",
       "      <td>54.900000</td>\n",
       "    </tr>\n",
       "    <tr>\n",
       "      <th>17</th>\n",
       "      <td>Polska</td>\n",
       "      <td>2001</td>\n",
       "      <td>1390089</td>\n",
       "      <td>753940</td>\n",
       "      <td>53.800000</td>\n",
       "    </tr>\n",
       "    <tr>\n",
       "      <th>18</th>\n",
       "      <td>Polska</td>\n",
       "      <td>2000</td>\n",
       "      <td>1266910</td>\n",
       "      <td>609884</td>\n",
       "      <td>47.800000</td>\n",
       "    </tr>\n",
       "    <tr>\n",
       "      <th>19</th>\n",
       "      <td>Polska</td>\n",
       "      <td>1999</td>\n",
       "      <td>1121545</td>\n",
       "      <td>507987</td>\n",
       "      <td>45.000000</td>\n",
       "    </tr>\n",
       "  </tbody>\n",
       "</table>\n",
       "</div>"
      ],
      "text/plain": [
       "   Jednostka podziału administracyjnego   Rok  Przestępstwa stwierdzone  \\\n",
       "0                                Polska  2018                    768049   \n",
       "1                                Polska  2017                    753963   \n",
       "2                                Polska  2016                    748459   \n",
       "3                                Polska  2015                    799779   \n",
       "4                                Polska  2014                    867855   \n",
       "5                                Polska  2013                   1061237   \n",
       "6                                Polska  2012                   1119803   \n",
       "7                                Polska  2011                   1159554   \n",
       "8                                Polska  2010                   1138523   \n",
       "9                                Polska  2009                   1129577   \n",
       "10                               Polska  2008                   1082057   \n",
       "11                               Polska  2007                   1152993   \n",
       "12                               Polska  2006                   1287918   \n",
       "13                               Polska  2005                   1379962   \n",
       "14                               Polska  2004                   1461217   \n",
       "15                               Polska  2003                   1466643   \n",
       "16                               Polska  2002                   1404229   \n",
       "17                               Polska  2001                   1390089   \n",
       "18                               Polska  2000                   1266910   \n",
       "19                               Polska  1999                   1121545   \n",
       "\n",
       "    Przestępstwa wykryte  % wykrycia  \n",
       "0                 567775   73.378319  \n",
       "1                 545008   71.700000  \n",
       "2                 501877   66.485357  \n",
       "3                 524380   64.720134  \n",
       "4                 573824   65.179275  \n",
       "5                 720510   66.993961  \n",
       "6                 769604   67.800000  \n",
       "7                 807064   68.700000  \n",
       "8                 783428   67.900000  \n",
       "9                 766075   67.100000  \n",
       "10                721925   65.900000  \n",
       "11                752698   64.600000  \n",
       "12                812347   62.400000  \n",
       "13                816861   58.600000  \n",
       "14                829079   56.200000  \n",
       "15                815824   55.200000  \n",
       "16                777326   54.900000  \n",
       "17                753940   53.800000  \n",
       "18                609884   47.800000  \n",
       "19                507987   45.000000  "
      ]
     },
     "execution_count": 23,
     "metadata": {},
     "output_type": "execute_result"
    }
   ],
   "source": [
    "crimes_in_Poland"
   ]
  },
  {
   "cell_type": "code",
   "execution_count": 24,
   "metadata": {},
   "outputs": [
    {
     "data": {
      "text/plain": [
       "<matplotlib.axes._subplots.AxesSubplot at 0x7f104b98b700>"
      ]
     },
     "execution_count": 24,
     "metadata": {},
     "output_type": "execute_result"
    },
    {
     "data": {
      "image/png": "[encoded data removed]",
      "text/plain": [
       "<Figure size 432x288 with 1 Axes>"
      ]
     },
     "metadata": {
      "needs_background": "light"
     },
     "output_type": "display_data"
    }
   ],
   "source": [
    "crimes_in_Poland.sort_values(by='Rok').plot(x='Rok', y='Przestępstwa stwierdzone', kind='bar')"
   ]
  },
  {
   "cell_type": "markdown",
   "metadata": {},
   "source": [
    "W Polsce z roku na rok maleje ilość stwierdzonych przestępstw! Czyżby było ich mniej?"
   ]
  },
  {
   "cell_type": "code",
   "execution_count": 25,
   "metadata": {},
   "outputs": [
    {
     "data": {
      "text/plain": [
       "<matplotlib.axes._subplots.AxesSubplot at 0x7f1049735af0>"
      ]
     },
     "execution_count": 25,
     "metadata": {},
     "output_type": "execute_result"
    },
    {
     "data": {
      "image/png": "[encoded data removed]",
      "text/plain": [
       "<Figure size 432x288 with 1 Axes>"
      ]
     },
     "metadata": {
      "needs_background": "light"
     },
     "output_type": "display_data"
    }
   ],
   "source": [
    "crimes_in_Poland.sort_values(by='Rok').plot(x='Rok', y='% wykrycia', kind='bar')"
   ]
  },
  {
   "cell_type": "markdown",
   "metadata": {},
   "source": [
    "Ale wykrywalność wzrasta."
   ]
  },
  {
   "cell_type": "code",
   "execution_count": 26,
   "metadata": {},
   "outputs": [
    {
     "data": {
      "text/html": [
       "<div>\n",
       "<style scoped>\n",
       "    .dataframe tbody tr th:only-of-type {\n",
       "        vertical-align: middle;\n",
       "    }\n",
       "\n",
       "    .dataframe tbody tr th {\n",
       "        vertical-align: top;\n",
       "    }\n",
       "\n",
       "    .dataframe thead th {\n",
       "        text-align: right;\n",
       "    }\n",
       "</style>\n",
       "<table border=\"1\" class=\"dataframe\">\n",
       "  <thead>\n",
       "    <tr style=\"text-align: right;\">\n",
       "      <th></th>\n",
       "      <th>Przestępstwa stwierdzone</th>\n",
       "      <th>Przestępstwa wykryte</th>\n",
       "    </tr>\n",
       "  </thead>\n",
       "  <tbody>\n",
       "    <tr>\n",
       "      <th>0</th>\n",
       "      <td>768049</td>\n",
       "      <td>567775</td>\n",
       "    </tr>\n",
       "    <tr>\n",
       "      <th>1</th>\n",
       "      <td>753963</td>\n",
       "      <td>545008</td>\n",
       "    </tr>\n",
       "    <tr>\n",
       "      <th>2</th>\n",
       "      <td>748459</td>\n",
       "      <td>501877</td>\n",
       "    </tr>\n",
       "    <tr>\n",
       "      <th>3</th>\n",
       "      <td>799779</td>\n",
       "      <td>524380</td>\n",
       "    </tr>\n",
       "    <tr>\n",
       "      <th>4</th>\n",
       "      <td>867855</td>\n",
       "      <td>573824</td>\n",
       "    </tr>\n",
       "    <tr>\n",
       "      <th>...</th>\n",
       "      <td>...</td>\n",
       "      <td>...</td>\n",
       "    </tr>\n",
       "    <tr>\n",
       "      <th>375</th>\n",
       "      <td>128891</td>\n",
       "      <td>44931</td>\n",
       "    </tr>\n",
       "    <tr>\n",
       "      <th>376</th>\n",
       "      <td>125604</td>\n",
       "      <td>43299</td>\n",
       "    </tr>\n",
       "    <tr>\n",
       "      <th>377</th>\n",
       "      <td>121876</td>\n",
       "      <td>38414</td>\n",
       "    </tr>\n",
       "    <tr>\n",
       "      <th>378</th>\n",
       "      <td>117703</td>\n",
       "      <td>29671</td>\n",
       "    </tr>\n",
       "    <tr>\n",
       "      <th>379</th>\n",
       "      <td>90275</td>\n",
       "      <td>14501</td>\n",
       "    </tr>\n",
       "  </tbody>\n",
       "</table>\n",
       "<p>380 rows × 2 columns</p>\n",
       "</div>"
      ],
      "text/plain": [
       "     Przestępstwa stwierdzone  Przestępstwa wykryte\n",
       "0                      768049                567775\n",
       "1                      753963                545008\n",
       "2                      748459                501877\n",
       "3                      799779                524380\n",
       "4                      867855                573824\n",
       "..                        ...                   ...\n",
       "375                    128891                 44931\n",
       "376                    125604                 43299\n",
       "377                    121876                 38414\n",
       "378                    117703                 29671\n",
       "379                     90275                 14501\n",
       "\n",
       "[380 rows x 2 columns]"
      ]
     },
     "execution_count": 26,
     "metadata": {},
     "output_type": "execute_result"
    }
   ],
   "source": [
    "crimes[['Przestępstwa stwierdzone', 'Przestępstwa wykryte']]"
   ]
  },
  {
   "cell_type": "markdown",
   "metadata": {},
   "source": [
    "Pomimo, że posiadamy już % wykrycia przestępstw, obliczmy ponownie z posiadanych danych."
   ]
  },
  {
   "cell_type": "code",
   "execution_count": 27,
   "metadata": {},
   "outputs": [],
   "source": [
    "crimes['obliczony % wykrycia'] = 100.0*crimes['Przestępstwa wykryte'] / crimes['Przestępstwa stwierdzone']"
   ]
  },
  {
   "cell_type": "code",
   "execution_count": 28,
   "metadata": {},
   "outputs": [
    {
     "data": {
      "text/html": [
       "<div>\n",
       "<style scoped>\n",
       "    .dataframe tbody tr th:only-of-type {\n",
       "        vertical-align: middle;\n",
       "    }\n",
       "\n",
       "    .dataframe tbody tr th {\n",
       "        vertical-align: top;\n",
       "    }\n",
       "\n",
       "    .dataframe thead th {\n",
       "        text-align: right;\n",
       "    }\n",
       "</style>\n",
       "<table border=\"1\" class=\"dataframe\">\n",
       "  <thead>\n",
       "    <tr style=\"text-align: right;\">\n",
       "      <th></th>\n",
       "      <th>Przestępstwa stwierdzone</th>\n",
       "      <th>Przestępstwa wykryte</th>\n",
       "      <th>obliczony % wykrycia</th>\n",
       "      <th>% wykrycia</th>\n",
       "    </tr>\n",
       "  </thead>\n",
       "  <tbody>\n",
       "    <tr>\n",
       "      <th>0</th>\n",
       "      <td>768049</td>\n",
       "      <td>567775</td>\n",
       "      <td>73.924320</td>\n",
       "      <td>73.378319</td>\n",
       "    </tr>\n",
       "    <tr>\n",
       "      <th>1</th>\n",
       "      <td>753963</td>\n",
       "      <td>545008</td>\n",
       "      <td>72.285775</td>\n",
       "      <td>71.700000</td>\n",
       "    </tr>\n",
       "    <tr>\n",
       "      <th>2</th>\n",
       "      <td>748459</td>\n",
       "      <td>501877</td>\n",
       "      <td>67.054708</td>\n",
       "      <td>66.485357</td>\n",
       "    </tr>\n",
       "    <tr>\n",
       "      <th>3</th>\n",
       "      <td>799779</td>\n",
       "      <td>524380</td>\n",
       "      <td>65.565613</td>\n",
       "      <td>64.720134</td>\n",
       "    </tr>\n",
       "    <tr>\n",
       "      <th>4</th>\n",
       "      <td>867855</td>\n",
       "      <td>573824</td>\n",
       "      <td>66.119801</td>\n",
       "      <td>65.179275</td>\n",
       "    </tr>\n",
       "    <tr>\n",
       "      <th>...</th>\n",
       "      <td>...</td>\n",
       "      <td>...</td>\n",
       "      <td>...</td>\n",
       "      <td>...</td>\n",
       "    </tr>\n",
       "    <tr>\n",
       "      <th>375</th>\n",
       "      <td>128891</td>\n",
       "      <td>44931</td>\n",
       "      <td>34.859688</td>\n",
       "      <td>34.700000</td>\n",
       "    </tr>\n",
       "    <tr>\n",
       "      <th>376</th>\n",
       "      <td>125604</td>\n",
       "      <td>43299</td>\n",
       "      <td>34.472628</td>\n",
       "      <td>34.400000</td>\n",
       "    </tr>\n",
       "    <tr>\n",
       "      <th>377</th>\n",
       "      <td>121876</td>\n",
       "      <td>38414</td>\n",
       "      <td>31.518921</td>\n",
       "      <td>31.400000</td>\n",
       "    </tr>\n",
       "    <tr>\n",
       "      <th>378</th>\n",
       "      <td>117703</td>\n",
       "      <td>29671</td>\n",
       "      <td>25.208363</td>\n",
       "      <td>25.200000</td>\n",
       "    </tr>\n",
       "    <tr>\n",
       "      <th>379</th>\n",
       "      <td>90275</td>\n",
       "      <td>14501</td>\n",
       "      <td>16.063140</td>\n",
       "      <td>16.100000</td>\n",
       "    </tr>\n",
       "  </tbody>\n",
       "</table>\n",
       "<p>380 rows × 4 columns</p>\n",
       "</div>"
      ],
      "text/plain": [
       "     Przestępstwa stwierdzone  Przestępstwa wykryte  obliczony % wykrycia  \\\n",
       "0                      768049                567775             73.924320   \n",
       "1                      753963                545008             72.285775   \n",
       "2                      748459                501877             67.054708   \n",
       "3                      799779                524380             65.565613   \n",
       "4                      867855                573824             66.119801   \n",
       "..                        ...                   ...                   ...   \n",
       "375                    128891                 44931             34.859688   \n",
       "376                    125604                 43299             34.472628   \n",
       "377                    121876                 38414             31.518921   \n",
       "378                    117703                 29671             25.208363   \n",
       "379                     90275                 14501             16.063140   \n",
       "\n",
       "     % wykrycia  \n",
       "0     73.378319  \n",
       "1     71.700000  \n",
       "2     66.485357  \n",
       "3     64.720134  \n",
       "4     65.179275  \n",
       "..          ...  \n",
       "375   34.700000  \n",
       "376   34.400000  \n",
       "377   31.400000  \n",
       "378   25.200000  \n",
       "379   16.100000  \n",
       "\n",
       "[380 rows x 4 columns]"
      ]
     },
     "execution_count": 28,
     "metadata": {},
     "output_type": "execute_result"
    }
   ],
   "source": [
    "crimes[['Przestępstwa stwierdzone', 'Przestępstwa wykryte', 'obliczony % wykrycia', '% wykrycia']]"
   ]
  },
  {
   "cell_type": "code",
   "execution_count": 29,
   "metadata": {},
   "outputs": [
    {
     "data": {
      "text/plain": [
       "<matplotlib.axes._subplots.AxesSubplot at 0x7f104b7f92e0>"
      ]
     },
     "execution_count": 29,
     "metadata": {},
     "output_type": "execute_result"
    },
    {
     "data": {
      "image/png": "[encoded data removed]",
      "text/plain": [
       "<Figure size 432x288 with 1 Axes>"
      ]
     },
     "metadata": {
      "needs_background": "light"
     },
     "output_type": "display_data"
    },
    {
     "data": {
      "image/png": "[encoded data removed]",
      "text/plain": [
       "<Figure size 432x288 with 1 Axes>"
      ]
     },
     "metadata": {
      "needs_background": "light"
     },
     "output_type": "display_data"
    }
   ],
   "source": [
    "crimes_in_Poland = crimes[crimes['Jednostka podziału administracyjnego']==\"Polska\"]\n",
    "crimes_in_Poland.plot(x='Rok', y='% wykrycia', kind='box')\n",
    "crimes_in_Poland.plot(x='Rok', y='obliczony % wykrycia', kind='box')"
   ]
  },
  {
   "cell_type": "markdown",
   "metadata": {},
   "source": [
    "Obliczone różnią się od tych podanych. W arkuszu na samym dole jest wyjaśnienie przestępstw stwierdzonych. Decyzja, z których procentów skorzystamy należy do nas. Wykorzystamy obliczone, usuwając kolumnę _% wykrycia_ podany z Excela."
   ]
  },
  {
   "cell_type": "code",
   "execution_count": 30,
   "metadata": {},
   "outputs": [],
   "source": [
    "del crimes['% wykrycia']"
   ]
  },
  {
   "cell_type": "code",
   "execution_count": 31,
   "metadata": {},
   "outputs": [],
   "source": [
    "nowe_nazwy_kolumn = {\n",
    "    'Jednostka podziału administracyjnego': 'podział', \n",
    "    'Rok' : 'rok',\n",
    "    'Przestępstwa stwierdzone' : 'stwierdzone',\n",
    "    'Przestępstwa wykryte' : 'wykryte',\n",
    "    'obliczony % wykrycia' : '% wykrycia'\n",
    "}\n",
    "crimes = crimes.rename(columns = nowe_nazwy_kolumn)"
   ]
  },
  {
   "cell_type": "code",
   "execution_count": 32,
   "metadata": {},
   "outputs": [
    {
     "data": {
      "text/html": [
       "<div>\n",
       "<style scoped>\n",
       "    .dataframe tbody tr th:only-of-type {\n",
       "        vertical-align: middle;\n",
       "    }\n",
       "\n",
       "    .dataframe tbody tr th {\n",
       "        vertical-align: top;\n",
       "    }\n",
       "\n",
       "    .dataframe thead th {\n",
       "        text-align: right;\n",
       "    }\n",
       "</style>\n",
       "<table border=\"1\" class=\"dataframe\">\n",
       "  <thead>\n",
       "    <tr style=\"text-align: right;\">\n",
       "      <th></th>\n",
       "      <th>podział</th>\n",
       "      <th>rok</th>\n",
       "      <th>stwierdzone</th>\n",
       "      <th>wykryte</th>\n",
       "      <th>% wykrycia</th>\n",
       "    </tr>\n",
       "  </thead>\n",
       "  <tbody>\n",
       "    <tr>\n",
       "      <th>0</th>\n",
       "      <td>Polska</td>\n",
       "      <td>2018</td>\n",
       "      <td>768049</td>\n",
       "      <td>567775</td>\n",
       "      <td>73.924320</td>\n",
       "    </tr>\n",
       "    <tr>\n",
       "      <th>1</th>\n",
       "      <td>Polska</td>\n",
       "      <td>2017</td>\n",
       "      <td>753963</td>\n",
       "      <td>545008</td>\n",
       "      <td>72.285775</td>\n",
       "    </tr>\n",
       "    <tr>\n",
       "      <th>2</th>\n",
       "      <td>Polska</td>\n",
       "      <td>2016</td>\n",
       "      <td>748459</td>\n",
       "      <td>501877</td>\n",
       "      <td>67.054708</td>\n",
       "    </tr>\n",
       "    <tr>\n",
       "      <th>3</th>\n",
       "      <td>Polska</td>\n",
       "      <td>2015</td>\n",
       "      <td>799779</td>\n",
       "      <td>524380</td>\n",
       "      <td>65.565613</td>\n",
       "    </tr>\n",
       "    <tr>\n",
       "      <th>4</th>\n",
       "      <td>Polska</td>\n",
       "      <td>2014</td>\n",
       "      <td>867855</td>\n",
       "      <td>573824</td>\n",
       "      <td>66.119801</td>\n",
       "    </tr>\n",
       "    <tr>\n",
       "      <th>...</th>\n",
       "      <td>...</td>\n",
       "      <td>...</td>\n",
       "      <td>...</td>\n",
       "      <td>...</td>\n",
       "      <td>...</td>\n",
       "    </tr>\n",
       "    <tr>\n",
       "      <th>375</th>\n",
       "      <td>teren działania KSP Warszawa</td>\n",
       "      <td>2003</td>\n",
       "      <td>128891</td>\n",
       "      <td>44931</td>\n",
       "      <td>34.859688</td>\n",
       "    </tr>\n",
       "    <tr>\n",
       "      <th>376</th>\n",
       "      <td>teren działania KSP Warszawa</td>\n",
       "      <td>2002</td>\n",
       "      <td>125604</td>\n",
       "      <td>43299</td>\n",
       "      <td>34.472628</td>\n",
       "    </tr>\n",
       "    <tr>\n",
       "      <th>377</th>\n",
       "      <td>teren działania KSP Warszawa</td>\n",
       "      <td>2001</td>\n",
       "      <td>121876</td>\n",
       "      <td>38414</td>\n",
       "      <td>31.518921</td>\n",
       "    </tr>\n",
       "    <tr>\n",
       "      <th>378</th>\n",
       "      <td>teren działania KSP Warszawa</td>\n",
       "      <td>2000</td>\n",
       "      <td>117703</td>\n",
       "      <td>29671</td>\n",
       "      <td>25.208363</td>\n",
       "    </tr>\n",
       "    <tr>\n",
       "      <th>379</th>\n",
       "      <td>teren działania KSP Warszawa</td>\n",
       "      <td>1999</td>\n",
       "      <td>90275</td>\n",
       "      <td>14501</td>\n",
       "      <td>16.063140</td>\n",
       "    </tr>\n",
       "  </tbody>\n",
       "</table>\n",
       "<p>380 rows × 5 columns</p>\n",
       "</div>"
      ],
      "text/plain": [
       "                          podział   rok  stwierdzone  wykryte  % wykrycia\n",
       "0                          Polska  2018       768049   567775   73.924320\n",
       "1                          Polska  2017       753963   545008   72.285775\n",
       "2                          Polska  2016       748459   501877   67.054708\n",
       "3                          Polska  2015       799779   524380   65.565613\n",
       "4                          Polska  2014       867855   573824   66.119801\n",
       "..                            ...   ...          ...      ...         ...\n",
       "375  teren działania KSP Warszawa  2003       128891    44931   34.859688\n",
       "376  teren działania KSP Warszawa  2002       125604    43299   34.472628\n",
       "377  teren działania KSP Warszawa  2001       121876    38414   31.518921\n",
       "378  teren działania KSP Warszawa  2000       117703    29671   25.208363\n",
       "379  teren działania KSP Warszawa  1999        90275    14501   16.063140\n",
       "\n",
       "[380 rows x 5 columns]"
      ]
     },
     "execution_count": 32,
     "metadata": {},
     "output_type": "execute_result"
    }
   ],
   "source": [
    "crimes"
   ]
  },
  {
   "cell_type": "code",
   "execution_count": 33,
   "metadata": {},
   "outputs": [
    {
     "data": {
      "text/plain": [
       "woj. zachodniopomorskie                                20\n",
       "woj. dolnośląskie                                      20\n",
       "woj. lubuskie                                          20\n",
       "woj. warmińsko-mazurskie                               20\n",
       "woj. pomorskie                                         20\n",
       "woj. wielkopolskie                                     20\n",
       "teren działania KSP Warszawa                           20\n",
       "Polska                                                 20\n",
       "woj. świętokrzyskie                                    20\n",
       "woj. małopolskie                                       20\n",
       "woj. podkarpackie                                      20\n",
       "woj. śląskie                                           20\n",
       "woj. mazowieckie (KWP z/s w Radomiu i KSP Warszawa)    20\n",
       "woj. lubelskie                                         20\n",
       "woj. podlaskie                                         20\n",
       "woj. łódzkie                                           20\n",
       "woj. opolskie                                          20\n",
       "woj. kujawsko-pomorskie                                20\n",
       "teren działania KWP z/s w Radomiu                      20\n",
       "Name: podział, dtype: int64"
      ]
     },
     "execution_count": 33,
     "metadata": {},
     "output_type": "execute_result"
    }
   ],
   "source": [
    "crimes['podział'].value_counts()"
   ]
  },
  {
   "cell_type": "code",
   "execution_count": 34,
   "metadata": {},
   "outputs": [
    {
     "data": {
      "text/plain": [
       "<matplotlib.axes._subplots.AxesSubplot at 0x7f104b8d0580>"
      ]
     },
     "execution_count": 34,
     "metadata": {},
     "output_type": "execute_result"
    },
    {
     "data": {
      "image/png": "[encoded data removed]",
      "text/plain": [
       "<Figure size 432x288 with 1 Axes>"
      ]
     },
     "metadata": {
      "needs_background": "light"
     },
     "output_type": "display_data"
    },
    {
     "data": {
      "image/png": "[encoded data removed]",
      "text/plain": [
       "<Figure size 432x288 with 1 Axes>"
      ]
     },
     "metadata": {
      "needs_background": "light"
     },
     "output_type": "display_data"
    }
   ],
   "source": [
    "crimes_in_Warsaw = crimes[crimes['podział']==\"teren działania KSP Warszawa\"]\n",
    "crimes_in_Warsaw.sort_values(by='rok').plot(x='rok', y='stwierdzone', kind='bar')\n",
    "crimes_in_Warsaw.sort_values(by='rok').plot(x='rok', y='% wykrycia', kind='bar')"
   ]
  },
  {
   "cell_type": "code",
   "execution_count": 35,
   "metadata": {},
   "outputs": [
    {
     "data": {
      "text/plain": [
       "<matplotlib.axes._subplots.AxesSubplot at 0x7f1049680460>"
      ]
     },
     "execution_count": 35,
     "metadata": {},
     "output_type": "execute_result"
    },
    {
     "data": {
      "image/png": "[encoded data removed]",
      "text/plain": [
       "<Figure size 432x288 with 1 Axes>"
      ]
     },
     "metadata": {
      "needs_background": "light"
     },
     "output_type": "display_data"
    },
    {
     "data": {
      "image/png": "[encoded data removed]",
      "text/plain": [
       "<Figure size 432x288 with 1 Axes>"
      ]
     },
     "metadata": {
      "needs_background": "light"
     },
     "output_type": "display_data"
    }
   ],
   "source": [
    "crimes_in_Podlasie = crimes[crimes['podział']==\"woj. podlaskie\"]\n",
    "crimes_in_Podlasie.sort_values(by='rok').plot(x='rok', y='stwierdzone', kind='bar')\n",
    "crimes_in_Podlasie.sort_values(by='rok').plot(x='rok', y='% wykrycia', kind='bar')"
   ]
  },
  {
   "cell_type": "markdown",
   "metadata": {},
   "source": [
    "## Odczyt kilku arkuszy i złączenie w jeden"
   ]
  },
  {
   "cell_type": "code",
   "execution_count": 36,
   "metadata": {},
   "outputs": [],
   "source": [
    "kryminalne = pd.read_excel(\"przestepstwa_stwierdzone_do_2018.xlsx\", sheet_name=\"kryminalne\", header=2, nrows=380)\n",
    "siedemnascie = pd.read_excel(\"przestepstwa_stwierdzone_do_2018.xlsx\", sheet_name=\"17x7\", header=2, nrows=380)\n",
    "bojka = pd.read_excel(\"przestepstwa_stwierdzone_do_2018.xlsx\", sheet_name=\"bójka i pobicie\", header=2, nrows=380)\n",
    "kradziez = pd.read_excel(\"przestepstwa_stwierdzone_do_2018.xlsx\", sheet_name=\"kradziez cudzej rzeczy\", header=2, nrows=380)\n",
    "samochod = pd.read_excel(\"przestepstwa_stwierdzone_do_2018.xlsx\", sheet_name=\"kradzież samochodu\", header=2, nrows=380)\n",
    "wlamanie = pd.read_excel(\"przestepstwa_stwierdzone_do_2018.xlsx\", sheet_name=\"kradzież z włamaniem\", header=2, nrows=380)\n",
    "rozboj = pd.read_excel(\"przestepstwa_stwierdzone_do_2018.xlsx\", sheet_name=\"rozbój\", header=2, nrows=380)\n",
    "uszczerbek = pd.read_excel(\"przestepstwa_stwierdzone_do_2018.xlsx\", sheet_name=\"uszczerbek\", header=2, nrows=380)\n",
    "uszkodzenie = pd.read_excel(\"przestepstwa_stwierdzone_do_2018.xlsx\", sheet_name=\"uszkodzenie\", header=2, nrows=380)\n",
    "zabojstwo = pd.read_excel(\"przestepstwa_stwierdzone_do_2018.xlsx\", sheet_name=\"zabójstwo\", header=2, nrows=380)\n",
    "zgwalcenie = pd.read_excel(\"przestepstwa_stwierdzone_do_2018.xlsx\", sheet_name=\"zgwałcenie\", header=2, nrows=380)\n",
    "narkotyki = pd.read_excel(\"przestepstwa_stwierdzone_do_2018.xlsx\", sheet_name=\"narkotyki\", header=2, nrows=380)\n",
    "gospodarcze = pd.read_excel(\"przestepstwa_stwierdzone_do_2018.xlsx\", sheet_name=\"gospodarcze\", header=2, nrows=380)\n",
    "korupcja = pd.read_excel(\"przestepstwa_stwierdzone_do_2018.xlsx\", sheet_name=\"korupcja\", header=2, nrows=380)\n",
    "drogowe = pd.read_excel(\"przestepstwa_stwierdzone_do_2018.xlsx\", sheet_name=\"drogowe\", header=2, nrows=380)\n",
    "nietrzezwi = pd.read_excel(\"przestepstwa_stwierdzone_do_2018.xlsx\", sheet_name=\"nietrzezwi\", header=2, nrows=380)\n",
    "nietrzezwi['Przestępstwa stwierdzone']=pd.to_numeric(nietrzezwi['Przestępstwa stwierdzone'], errors='coerce')\n",
    "nietrzezwi['Przestępstwa wykryte']=pd.to_numeric(nietrzezwi['Przestępstwa wykryte'], errors='coerce')\n",
    "nietrzezwi['% wykrycia']=pd.to_numeric(nietrzezwi['% wykrycia'], errors='coerce')"
   ]
  },
  {
   "cell_type": "code",
   "execution_count": 37,
   "metadata": {},
   "outputs": [
    {
     "data": {
      "text/plain": [
       "Jednostka podziału administracyjnego     object\n",
       "Rok                                       int64\n",
       "Przestępstwa stwierdzone                  int64\n",
       "Przestępstwa wykryte                      int64\n",
       "% wykrycia                              float64\n",
       "dtype: object"
      ]
     },
     "execution_count": 37,
     "metadata": {},
     "output_type": "execute_result"
    }
   ],
   "source": [
    "kryminalne.dtypes"
   ]
  },
  {
   "cell_type": "code",
   "execution_count": 38,
   "metadata": {},
   "outputs": [],
   "source": [
    "calosc = pd.DataFrame()"
   ]
  },
  {
   "cell_type": "code",
   "execution_count": 39,
   "metadata": {},
   "outputs": [],
   "source": [
    "kryminalne['rodzaj'] = 'kryminalne'\n",
    "bojka['rodzaj'] = 'bojka'\n",
    "kradziez['rodzaj'] = 'kradziez'\n",
    "samochod['rodzaj'] = 'samochod'\n",
    "wlamanie['rodzaj'] = 'wlamanie'\n",
    "rozboj['rodzaj'] = 'rozboj'\n",
    "uszczerbek['rodzaj'] = 'uszczerbek'\n",
    "uszkodzenie['rodzaj'] = 'uszkodzenie'\n",
    "zabojstwo['rodzaj'] = 'zabojstwo'\n",
    "zgwalcenie['rodzaj'] = 'zgwalcenie'\n",
    "narkotyki['rodzaj'] = 'narkotyki'\n",
    "gospodarcze['rodzaj'] = 'gospodarcze'\n",
    "korupcja['rodzaj'] = 'korupcja'\n",
    "drogowe['rodzaj'] = 'drogowe'\n",
    "nietrzezwi['rodzaj'] = 'nietrzezwi'"
   ]
  },
  {
   "cell_type": "code",
   "execution_count": 40,
   "metadata": {},
   "outputs": [],
   "source": [
    "calosc = calosc.append(kryminalne).append(bojka).append(kradziez).append(samochod).append(wlamanie).append(rozboj).append(uszczerbek).append(uszkodzenie).append(zabojstwo).append(zgwalcenie).append(narkotyki).append(gospodarcze).append(korupcja).append(drogowe).append(nietrzezwi)"
   ]
  },
  {
   "cell_type": "code",
   "execution_count": 41,
   "metadata": {},
   "outputs": [],
   "source": [
    "nowe_nazwy_kolumn = {\n",
    "    'Jednostka podziału administracyjnego': 'podział', \n",
    "    'Rok' : 'rok',\n",
    "    'Przestępstwa stwierdzone' : 'stwierdzone',\n",
    "    'Przestępstwa wykryte' : 'wykryte'\n",
    "}\n",
    "calosc = calosc.rename(columns = nowe_nazwy_kolumn)"
   ]
  },
  {
   "cell_type": "code",
   "execution_count": 42,
   "metadata": {},
   "outputs": [
    {
     "data": {
      "text/html": [
       "<div>\n",
       "<style scoped>\n",
       "    .dataframe tbody tr th:only-of-type {\n",
       "        vertical-align: middle;\n",
       "    }\n",
       "\n",
       "    .dataframe tbody tr th {\n",
       "        vertical-align: top;\n",
       "    }\n",
       "\n",
       "    .dataframe thead th {\n",
       "        text-align: right;\n",
       "    }\n",
       "</style>\n",
       "<table border=\"1\" class=\"dataframe\">\n",
       "  <thead>\n",
       "    <tr style=\"text-align: right;\">\n",
       "      <th></th>\n",
       "      <th>podział</th>\n",
       "      <th>rok</th>\n",
       "      <th>stwierdzone</th>\n",
       "      <th>wykryte</th>\n",
       "      <th>% wykrycia</th>\n",
       "      <th>rodzaj</th>\n",
       "    </tr>\n",
       "  </thead>\n",
       "  <tbody>\n",
       "    <tr>\n",
       "      <th>0</th>\n",
       "      <td>Polska</td>\n",
       "      <td>2018</td>\n",
       "      <td>491732.0</td>\n",
       "      <td>319169.0</td>\n",
       "      <td>64.265274</td>\n",
       "      <td>kryminalne</td>\n",
       "    </tr>\n",
       "    <tr>\n",
       "      <th>1</th>\n",
       "      <td>Polska</td>\n",
       "      <td>2017</td>\n",
       "      <td>463907.0</td>\n",
       "      <td>281048.0</td>\n",
       "      <td>59.870000</td>\n",
       "      <td>kryminalne</td>\n",
       "    </tr>\n",
       "    <tr>\n",
       "      <th>2</th>\n",
       "      <td>Polska</td>\n",
       "      <td>2016</td>\n",
       "      <td>490328.0</td>\n",
       "      <td>272700.0</td>\n",
       "      <td>54.953742</td>\n",
       "      <td>kryminalne</td>\n",
       "    </tr>\n",
       "    <tr>\n",
       "      <th>3</th>\n",
       "      <td>Polska</td>\n",
       "      <td>2015</td>\n",
       "      <td>522546.0</td>\n",
       "      <td>275463.0</td>\n",
       "      <td>51.744231</td>\n",
       "      <td>kryminalne</td>\n",
       "    </tr>\n",
       "    <tr>\n",
       "      <th>4</th>\n",
       "      <td>Polska</td>\n",
       "      <td>2014</td>\n",
       "      <td>589147.0</td>\n",
       "      <td>317847.0</td>\n",
       "      <td>52.914971</td>\n",
       "      <td>kryminalne</td>\n",
       "    </tr>\n",
       "    <tr>\n",
       "      <th>...</th>\n",
       "      <td>...</td>\n",
       "      <td>...</td>\n",
       "      <td>...</td>\n",
       "      <td>...</td>\n",
       "      <td>...</td>\n",
       "      <td>...</td>\n",
       "    </tr>\n",
       "    <tr>\n",
       "      <th>375</th>\n",
       "      <td>teren działania KSP Warszawa</td>\n",
       "      <td>2003</td>\n",
       "      <td>6724.0</td>\n",
       "      <td>6727.0</td>\n",
       "      <td>100.000000</td>\n",
       "      <td>nietrzezwi</td>\n",
       "    </tr>\n",
       "    <tr>\n",
       "      <th>376</th>\n",
       "      <td>teren działania KSP Warszawa</td>\n",
       "      <td>2002</td>\n",
       "      <td>5404.0</td>\n",
       "      <td>5402.0</td>\n",
       "      <td>99.962990</td>\n",
       "      <td>nietrzezwi</td>\n",
       "    </tr>\n",
       "    <tr>\n",
       "      <th>377</th>\n",
       "      <td>teren działania KSP Warszawa</td>\n",
       "      <td>2001</td>\n",
       "      <td>4305.0</td>\n",
       "      <td>4305.0</td>\n",
       "      <td>100.000000</td>\n",
       "      <td>nietrzezwi</td>\n",
       "    </tr>\n",
       "    <tr>\n",
       "      <th>378</th>\n",
       "      <td>teren działania KSP Warszawa</td>\n",
       "      <td>2000</td>\n",
       "      <td>NaN</td>\n",
       "      <td>NaN</td>\n",
       "      <td>NaN</td>\n",
       "      <td>nietrzezwi</td>\n",
       "    </tr>\n",
       "    <tr>\n",
       "      <th>379</th>\n",
       "      <td>teren działania KSP Warszawa</td>\n",
       "      <td>1999</td>\n",
       "      <td>NaN</td>\n",
       "      <td>NaN</td>\n",
       "      <td>NaN</td>\n",
       "      <td>nietrzezwi</td>\n",
       "    </tr>\n",
       "  </tbody>\n",
       "</table>\n",
       "<p>5700 rows × 6 columns</p>\n",
       "</div>"
      ],
      "text/plain": [
       "                          podział   rok  stwierdzone   wykryte  % wykrycia  \\\n",
       "0                          Polska  2018     491732.0  319169.0   64.265274   \n",
       "1                          Polska  2017     463907.0  281048.0   59.870000   \n",
       "2                          Polska  2016     490328.0  272700.0   54.953742   \n",
       "3                          Polska  2015     522546.0  275463.0   51.744231   \n",
       "4                          Polska  2014     589147.0  317847.0   52.914971   \n",
       "..                            ...   ...          ...       ...         ...   \n",
       "375  teren działania KSP Warszawa  2003       6724.0    6727.0  100.000000   \n",
       "376  teren działania KSP Warszawa  2002       5404.0    5402.0   99.962990   \n",
       "377  teren działania KSP Warszawa  2001       4305.0    4305.0  100.000000   \n",
       "378  teren działania KSP Warszawa  2000          NaN       NaN         NaN   \n",
       "379  teren działania KSP Warszawa  1999          NaN       NaN         NaN   \n",
       "\n",
       "         rodzaj  \n",
       "0    kryminalne  \n",
       "1    kryminalne  \n",
       "2    kryminalne  \n",
       "3    kryminalne  \n",
       "4    kryminalne  \n",
       "..          ...  \n",
       "375  nietrzezwi  \n",
       "376  nietrzezwi  \n",
       "377  nietrzezwi  \n",
       "378  nietrzezwi  \n",
       "379  nietrzezwi  \n",
       "\n",
       "[5700 rows x 6 columns]"
      ]
     },
     "execution_count": 42,
     "metadata": {},
     "output_type": "execute_result"
    }
   ],
   "source": [
    "calosc"
   ]
  },
  {
   "cell_type": "code",
   "execution_count": 43,
   "metadata": {},
   "outputs": [
    {
     "data": {
      "text/plain": [
       "podział         object\n",
       "rok              int64\n",
       "stwierdzone    float64\n",
       "wykryte        float64\n",
       "% wykrycia     float64\n",
       "rodzaj          object\n",
       "dtype: object"
      ]
     },
     "execution_count": 43,
     "metadata": {},
     "output_type": "execute_result"
    }
   ],
   "source": [
    "calosc.dtypes"
   ]
  },
  {
   "cell_type": "code",
   "execution_count": 44,
   "metadata": {},
   "outputs": [
    {
     "data": {
      "text/plain": [
       "wlamanie       380\n",
       "gospodarcze    380\n",
       "bojka          380\n",
       "uszkodzenie    380\n",
       "nietrzezwi     380\n",
       "uszczerbek     380\n",
       "zabojstwo      380\n",
       "korupcja       380\n",
       "rozboj         380\n",
       "kradziez       380\n",
       "zgwalcenie     380\n",
       "narkotyki      380\n",
       "drogowe        380\n",
       "kryminalne     380\n",
       "samochod       380\n",
       "Name: rodzaj, dtype: int64"
      ]
     },
     "execution_count": 44,
     "metadata": {},
     "output_type": "execute_result"
    }
   ],
   "source": [
    "calosc['rodzaj'].value_counts()"
   ]
  },
  {
   "cell_type": "code",
   "execution_count": 45,
   "metadata": {},
   "outputs": [],
   "source": [
    "calosc_Polska = calosc[calosc['podział']=='Polska']"
   ]
  },
  {
   "cell_type": "code",
   "execution_count": 46,
   "metadata": {},
   "outputs": [
    {
     "data": {
      "text/html": [
       "<div>\n",
       "<style scoped>\n",
       "    .dataframe tbody tr th:only-of-type {\n",
       "        vertical-align: middle;\n",
       "    }\n",
       "\n",
       "    .dataframe tbody tr th {\n",
       "        vertical-align: top;\n",
       "    }\n",
       "\n",
       "    .dataframe thead th {\n",
       "        text-align: right;\n",
       "    }\n",
       "</style>\n",
       "<table border=\"1\" class=\"dataframe\">\n",
       "  <thead>\n",
       "    <tr style=\"text-align: right;\">\n",
       "      <th>rodzaj</th>\n",
       "      <th>bojka</th>\n",
       "      <th>drogowe</th>\n",
       "      <th>gospodarcze</th>\n",
       "      <th>korupcja</th>\n",
       "      <th>kradziez</th>\n",
       "      <th>kryminalne</th>\n",
       "      <th>narkotyki</th>\n",
       "      <th>nietrzezwi</th>\n",
       "      <th>rozboj</th>\n",
       "      <th>samochod</th>\n",
       "      <th>uszczerbek</th>\n",
       "      <th>uszkodzenie</th>\n",
       "      <th>wlamanie</th>\n",
       "      <th>zabojstwo</th>\n",
       "      <th>zgwalcenie</th>\n",
       "    </tr>\n",
       "    <tr>\n",
       "      <th>rok</th>\n",
       "      <th></th>\n",
       "      <th></th>\n",
       "      <th></th>\n",
       "      <th></th>\n",
       "      <th></th>\n",
       "      <th></th>\n",
       "      <th></th>\n",
       "      <th></th>\n",
       "      <th></th>\n",
       "      <th></th>\n",
       "      <th></th>\n",
       "      <th></th>\n",
       "      <th></th>\n",
       "      <th></th>\n",
       "      <th></th>\n",
       "    </tr>\n",
       "  </thead>\n",
       "  <tbody>\n",
       "    <tr>\n",
       "      <th>1999</th>\n",
       "      <td>12756.0</td>\n",
       "      <td>20505.0</td>\n",
       "      <td>60393.0</td>\n",
       "      <td>1349.0</td>\n",
       "      <td>243537.0</td>\n",
       "      <td>1020654.0</td>\n",
       "      <td>15628.0</td>\n",
       "      <td>0.0</td>\n",
       "      <td>44775.0</td>\n",
       "      <td>71543.0</td>\n",
       "      <td>17849.0</td>\n",
       "      <td>48244.0</td>\n",
       "      <td>369235.0</td>\n",
       "      <td>1048.0</td>\n",
       "      <td>2029.0</td>\n",
       "    </tr>\n",
       "    <tr>\n",
       "      <th>2000</th>\n",
       "      <td>14363.0</td>\n",
       "      <td>19894.0</td>\n",
       "      <td>84260.0</td>\n",
       "      <td>1899.0</td>\n",
       "      <td>309846.0</td>\n",
       "      <td>1133162.0</td>\n",
       "      <td>19649.0</td>\n",
       "      <td>0.0</td>\n",
       "      <td>53533.0</td>\n",
       "      <td>68062.0</td>\n",
       "      <td>18429.0</td>\n",
       "      <td>56867.0</td>\n",
       "      <td>364786.0</td>\n",
       "      <td>1269.0</td>\n",
       "      <td>2399.0</td>\n",
       "    </tr>\n",
       "    <tr>\n",
       "      <th>2001</th>\n",
       "      <td>14369.0</td>\n",
       "      <td>138817.0</td>\n",
       "      <td>103521.0</td>\n",
       "      <td>2331.0</td>\n",
       "      <td>314820.0</td>\n",
       "      <td>1107073.0</td>\n",
       "      <td>29230.0</td>\n",
       "      <td>120113.0</td>\n",
       "      <td>49862.0</td>\n",
       "      <td>59458.0</td>\n",
       "      <td>16968.0</td>\n",
       "      <td>59823.0</td>\n",
       "      <td>325696.0</td>\n",
       "      <td>1325.0</td>\n",
       "      <td>2339.0</td>\n",
       "    </tr>\n",
       "    <tr>\n",
       "      <th>2002</th>\n",
       "      <td>14194.0</td>\n",
       "      <td>163012.0</td>\n",
       "      <td>109698.0</td>\n",
       "      <td>2408.0</td>\n",
       "      <td>314929.0</td>\n",
       "      <td>1083854.0</td>\n",
       "      <td>36178.0</td>\n",
       "      <td>144412.0</td>\n",
       "      <td>47808.0</td>\n",
       "      <td>53674.0</td>\n",
       "      <td>16775.0</td>\n",
       "      <td>64309.0</td>\n",
       "      <td>304625.0</td>\n",
       "      <td>1188.0</td>\n",
       "      <td>2345.0</td>\n",
       "    </tr>\n",
       "    <tr>\n",
       "      <th>2003</th>\n",
       "      <td>14010.0</td>\n",
       "      <td>168827.0</td>\n",
       "      <td>151596.0</td>\n",
       "      <td>3490.0</td>\n",
       "      <td>336143.0</td>\n",
       "      <td>1101387.0</td>\n",
       "      <td>47605.0</td>\n",
       "      <td>150901.0</td>\n",
       "      <td>51688.0</td>\n",
       "      <td>54291.0</td>\n",
       "      <td>15669.0</td>\n",
       "      <td>68175.0</td>\n",
       "      <td>294654.0</td>\n",
       "      <td>1039.0</td>\n",
       "      <td>2322.0</td>\n",
       "    </tr>\n",
       "    <tr>\n",
       "      <th>2004</th>\n",
       "      <td>14338.0</td>\n",
       "      <td>177296.0</td>\n",
       "      <td>152148.0</td>\n",
       "      <td>4279.0</td>\n",
       "      <td>339086.0</td>\n",
       "      <td>1085295.0</td>\n",
       "      <td>59356.0</td>\n",
       "      <td>158543.0</td>\n",
       "      <td>48636.0</td>\n",
       "      <td>51150.0</td>\n",
       "      <td>15814.0</td>\n",
       "      <td>70799.0</td>\n",
       "      <td>266591.0</td>\n",
       "      <td>980.0</td>\n",
       "      <td>2176.0</td>\n",
       "    </tr>\n",
       "    <tr>\n",
       "      <th>2005</th>\n",
       "      <td>13911.0</td>\n",
       "      <td>196486.0</td>\n",
       "      <td>136801.0</td>\n",
       "      <td>6127.0</td>\n",
       "      <td>324144.0</td>\n",
       "      <td>1000096.0</td>\n",
       "      <td>67560.0</td>\n",
       "      <td>178571.0</td>\n",
       "      <td>42150.0</td>\n",
       "      <td>45292.0</td>\n",
       "      <td>15047.0</td>\n",
       "      <td>65775.0</td>\n",
       "      <td>221020.0</td>\n",
       "      <td>837.0</td>\n",
       "      <td>1987.0</td>\n",
       "    </tr>\n",
       "    <tr>\n",
       "      <th>2006</th>\n",
       "      <td>14266.0</td>\n",
       "      <td>197712.0</td>\n",
       "      <td>145314.0</td>\n",
       "      <td>6520.0</td>\n",
       "      <td>280709.0</td>\n",
       "      <td>893389.0</td>\n",
       "      <td>70202.0</td>\n",
       "      <td>180955.0</td>\n",
       "      <td>35182.0</td>\n",
       "      <td>30529.0</td>\n",
       "      <td>14834.0</td>\n",
       "      <td>62776.0</td>\n",
       "      <td>173762.0</td>\n",
       "      <td>816.0</td>\n",
       "      <td>2001.0</td>\n",
       "    </tr>\n",
       "    <tr>\n",
       "      <th>2007</th>\n",
       "      <td>14327.0</td>\n",
       "      <td>168359.0</td>\n",
       "      <td>143108.0</td>\n",
       "      <td>9631.0</td>\n",
       "      <td>241104.0</td>\n",
       "      <td>794317.0</td>\n",
       "      <td>63007.0</td>\n",
       "      <td>150382.0</td>\n",
       "      <td>27637.0</td>\n",
       "      <td>21284.0</td>\n",
       "      <td>14848.0</td>\n",
       "      <td>67986.0</td>\n",
       "      <td>141606.0</td>\n",
       "      <td>848.0</td>\n",
       "      <td>1827.0</td>\n",
       "    </tr>\n",
       "    <tr>\n",
       "      <th>2008</th>\n",
       "      <td>14380.0</td>\n",
       "      <td>167984.0</td>\n",
       "      <td>135305.0</td>\n",
       "      <td>7706.0</td>\n",
       "      <td>214414.0</td>\n",
       "      <td>735218.0</td>\n",
       "      <td>57382.0</td>\n",
       "      <td>150074.0</td>\n",
       "      <td>26159.0</td>\n",
       "      <td>17669.0</td>\n",
       "      <td>14274.0</td>\n",
       "      <td>72098.0</td>\n",
       "      <td>124066.0</td>\n",
       "      <td>759.0</td>\n",
       "      <td>1611.0</td>\n",
       "    </tr>\n",
       "    <tr>\n",
       "      <th>2009</th>\n",
       "      <td>13141.0</td>\n",
       "      <td>168148.0</td>\n",
       "      <td>151265.0</td>\n",
       "      <td>8305.0</td>\n",
       "      <td>211691.0</td>\n",
       "      <td>763597.0</td>\n",
       "      <td>68288.0</td>\n",
       "      <td>151762.0</td>\n",
       "      <td>26458.0</td>\n",
       "      <td>17271.0</td>\n",
       "      <td>15101.0</td>\n",
       "      <td>75045.0</td>\n",
       "      <td>135383.0</td>\n",
       "      <td>763.0</td>\n",
       "      <td>1530.0</td>\n",
       "    </tr>\n",
       "    <tr>\n",
       "      <th>2010</th>\n",
       "      <td>11883.0</td>\n",
       "      <td>156744.0</td>\n",
       "      <td>154341.0</td>\n",
       "      <td>12487.0</td>\n",
       "      <td>220455.0</td>\n",
       "      <td>778905.0</td>\n",
       "      <td>72375.0</td>\n",
       "      <td>142144.0</td>\n",
       "      <td>27218.0</td>\n",
       "      <td>16539.0</td>\n",
       "      <td>15695.0</td>\n",
       "      <td>69594.0</td>\n",
       "      <td>140085.0</td>\n",
       "      <td>680.0</td>\n",
       "      <td>1567.0</td>\n",
       "    </tr>\n",
       "    <tr>\n",
       "      <th>2011</th>\n",
       "      <td>12008.0</td>\n",
       "      <td>164572.0</td>\n",
       "      <td>151655.0</td>\n",
       "      <td>12192.0</td>\n",
       "      <td>230247.0</td>\n",
       "      <td>794102.0</td>\n",
       "      <td>74535.0</td>\n",
       "      <td>150763.0</td>\n",
       "      <td>26231.0</td>\n",
       "      <td>16575.0</td>\n",
       "      <td>16447.0</td>\n",
       "      <td>72591.0</td>\n",
       "      <td>135611.0</td>\n",
       "      <td>662.0</td>\n",
       "      <td>1498.0</td>\n",
       "    </tr>\n",
       "    <tr>\n",
       "      <th>2012</th>\n",
       "      <td>11416.0</td>\n",
       "      <td>155906.0</td>\n",
       "      <td>141483.0</td>\n",
       "      <td>10805.0</td>\n",
       "      <td>230751.0</td>\n",
       "      <td>781340.0</td>\n",
       "      <td>76358.0</td>\n",
       "      <td>141863.0</td>\n",
       "      <td>24564.0</td>\n",
       "      <td>16230.0</td>\n",
       "      <td>15478.0</td>\n",
       "      <td>67739.0</td>\n",
       "      <td>127691.0</td>\n",
       "      <td>582.0</td>\n",
       "      <td>1432.0</td>\n",
       "    </tr>\n",
       "    <tr>\n",
       "      <th>2013</th>\n",
       "      <td>8783.0</td>\n",
       "      <td>140925.0</td>\n",
       "      <td>159624.0</td>\n",
       "      <td>14664.0</td>\n",
       "      <td>213991.0</td>\n",
       "      <td>727717.0</td>\n",
       "      <td>72073.0</td>\n",
       "      <td>128064.0</td>\n",
       "      <td>19525.0</td>\n",
       "      <td>14800.0</td>\n",
       "      <td>14082.0</td>\n",
       "      <td>57945.0</td>\n",
       "      <td>118420.0</td>\n",
       "      <td>574.0</td>\n",
       "      <td>1362.0</td>\n",
       "    </tr>\n",
       "    <tr>\n",
       "      <th>2014</th>\n",
       "      <td>5797.0</td>\n",
       "      <td>86680.0</td>\n",
       "      <td>161135.0</td>\n",
       "      <td>11116.0</td>\n",
       "      <td>169034.0</td>\n",
       "      <td>589147.0</td>\n",
       "      <td>49718.0</td>\n",
       "      <td>73920.0</td>\n",
       "      <td>9435.0</td>\n",
       "      <td>13791.0</td>\n",
       "      <td>11644.0</td>\n",
       "      <td>45288.0</td>\n",
       "      <td>102817.0</td>\n",
       "      <td>526.0</td>\n",
       "      <td>1249.0</td>\n",
       "    </tr>\n",
       "    <tr>\n",
       "      <th>2015</th>\n",
       "      <td>4708.0</td>\n",
       "      <td>76359.0</td>\n",
       "      <td>167741.0</td>\n",
       "      <td>7891.0</td>\n",
       "      <td>145464.0</td>\n",
       "      <td>522546.0</td>\n",
       "      <td>46431.0</td>\n",
       "      <td>64336.0</td>\n",
       "      <td>7787.0</td>\n",
       "      <td>12036.0</td>\n",
       "      <td>9949.0</td>\n",
       "      <td>42413.0</td>\n",
       "      <td>91328.0</td>\n",
       "      <td>495.0</td>\n",
       "      <td>1144.0</td>\n",
       "    </tr>\n",
       "    <tr>\n",
       "      <th>2016</th>\n",
       "      <td>4776.0</td>\n",
       "      <td>73479.0</td>\n",
       "      <td>150386.0</td>\n",
       "      <td>8745.0</td>\n",
       "      <td>127801.0</td>\n",
       "      <td>490328.0</td>\n",
       "      <td>51323.0</td>\n",
       "      <td>60443.0</td>\n",
       "      <td>7444.0</td>\n",
       "      <td>11448.0</td>\n",
       "      <td>11034.0</td>\n",
       "      <td>40969.0</td>\n",
       "      <td>77190.0</td>\n",
       "      <td>456.0</td>\n",
       "      <td>1383.0</td>\n",
       "    </tr>\n",
       "    <tr>\n",
       "      <th>2017</th>\n",
       "      <td>4385.0</td>\n",
       "      <td>68571.0</td>\n",
       "      <td>189871.0</td>\n",
       "      <td>8347.0</td>\n",
       "      <td>108248.0</td>\n",
       "      <td>463907.0</td>\n",
       "      <td>55638.0</td>\n",
       "      <td>55170.0</td>\n",
       "      <td>6053.0</td>\n",
       "      <td>10047.0</td>\n",
       "      <td>11402.0</td>\n",
       "      <td>36927.0</td>\n",
       "      <td>65514.0</td>\n",
       "      <td>513.0</td>\n",
       "      <td>1262.0</td>\n",
       "    </tr>\n",
       "    <tr>\n",
       "      <th>2018</th>\n",
       "      <td>3845.0</td>\n",
       "      <td>65972.0</td>\n",
       "      <td>180739.0</td>\n",
       "      <td>10323.0</td>\n",
       "      <td>100372.0</td>\n",
       "      <td>491732.0</td>\n",
       "      <td>50946.0</td>\n",
       "      <td>51499.0</td>\n",
       "      <td>5222.0</td>\n",
       "      <td>8745.0</td>\n",
       "      <td>10473.0</td>\n",
       "      <td>34921.0</td>\n",
       "      <td>66510.0</td>\n",
       "      <td>531.0</td>\n",
       "      <td>1326.0</td>\n",
       "    </tr>\n",
       "  </tbody>\n",
       "</table>\n",
       "</div>"
      ],
      "text/plain": [
       "rodzaj    bojka   drogowe  gospodarcze  korupcja  kradziez  kryminalne  \\\n",
       "rok                                                                      \n",
       "1999    12756.0   20505.0      60393.0    1349.0  243537.0   1020654.0   \n",
       "2000    14363.0   19894.0      84260.0    1899.0  309846.0   1133162.0   \n",
       "2001    14369.0  138817.0     103521.0    2331.0  314820.0   1107073.0   \n",
       "2002    14194.0  163012.0     109698.0    2408.0  314929.0   1083854.0   \n",
       "2003    14010.0  168827.0     151596.0    3490.0  336143.0   1101387.0   \n",
       "2004    14338.0  177296.0     152148.0    4279.0  339086.0   1085295.0   \n",
       "2005    13911.0  196486.0     136801.0    6127.0  324144.0   1000096.0   \n",
       "2006    14266.0  197712.0     145314.0    6520.0  280709.0    893389.0   \n",
       "2007    14327.0  168359.0     143108.0    9631.0  241104.0    794317.0   \n",
       "2008    14380.0  167984.0     135305.0    7706.0  214414.0    735218.0   \n",
       "2009    13141.0  168148.0     151265.0    8305.0  211691.0    763597.0   \n",
       "2010    11883.0  156744.0     154341.0   12487.0  220455.0    778905.0   \n",
       "2011    12008.0  164572.0     151655.0   12192.0  230247.0    794102.0   \n",
       "2012    11416.0  155906.0     141483.0   10805.0  230751.0    781340.0   \n",
       "2013     8783.0  140925.0     159624.0   14664.0  213991.0    727717.0   \n",
       "2014     5797.0   86680.0     161135.0   11116.0  169034.0    589147.0   \n",
       "2015     4708.0   76359.0     167741.0    7891.0  145464.0    522546.0   \n",
       "2016     4776.0   73479.0     150386.0    8745.0  127801.0    490328.0   \n",
       "2017     4385.0   68571.0     189871.0    8347.0  108248.0    463907.0   \n",
       "2018     3845.0   65972.0     180739.0   10323.0  100372.0    491732.0   \n",
       "\n",
       "rodzaj  narkotyki  nietrzezwi   rozboj  samochod  uszczerbek  uszkodzenie  \\\n",
       "rok                                                                         \n",
       "1999      15628.0         0.0  44775.0   71543.0     17849.0      48244.0   \n",
       "2000      19649.0         0.0  53533.0   68062.0     18429.0      56867.0   \n",
       "2001      29230.0    120113.0  49862.0   59458.0     16968.0      59823.0   \n",
       "2002      36178.0    144412.0  47808.0   53674.0     16775.0      64309.0   \n",
       "2003      47605.0    150901.0  51688.0   54291.0     15669.0      68175.0   \n",
       "2004      59356.0    158543.0  48636.0   51150.0     15814.0      70799.0   \n",
       "2005      67560.0    178571.0  42150.0   45292.0     15047.0      65775.0   \n",
       "2006      70202.0    180955.0  35182.0   30529.0     14834.0      62776.0   \n",
       "2007      63007.0    150382.0  27637.0   21284.0     14848.0      67986.0   \n",
       "2008      57382.0    150074.0  26159.0   17669.0     14274.0      72098.0   \n",
       "2009      68288.0    151762.0  26458.0   17271.0     15101.0      75045.0   \n",
       "2010      72375.0    142144.0  27218.0   16539.0     15695.0      69594.0   \n",
       "2011      74535.0    150763.0  26231.0   16575.0     16447.0      72591.0   \n",
       "2012      76358.0    141863.0  24564.0   16230.0     15478.0      67739.0   \n",
       "2013      72073.0    128064.0  19525.0   14800.0     14082.0      57945.0   \n",
       "2014      49718.0     73920.0   9435.0   13791.0     11644.0      45288.0   \n",
       "2015      46431.0     64336.0   7787.0   12036.0      9949.0      42413.0   \n",
       "2016      51323.0     60443.0   7444.0   11448.0     11034.0      40969.0   \n",
       "2017      55638.0     55170.0   6053.0   10047.0     11402.0      36927.0   \n",
       "2018      50946.0     51499.0   5222.0    8745.0     10473.0      34921.0   \n",
       "\n",
       "rodzaj  wlamanie  zabojstwo  zgwalcenie  \n",
       "rok                                      \n",
       "1999    369235.0     1048.0      2029.0  \n",
       "2000    364786.0     1269.0      2399.0  \n",
       "2001    325696.0     1325.0      2339.0  \n",
       "2002    304625.0     1188.0      2345.0  \n",
       "2003    294654.0     1039.0      2322.0  \n",
       "2004    266591.0      980.0      2176.0  \n",
       "2005    221020.0      837.0      1987.0  \n",
       "2006    173762.0      816.0      2001.0  \n",
       "2007    141606.0      848.0      1827.0  \n",
       "2008    124066.0      759.0      1611.0  \n",
       "2009    135383.0      763.0      1530.0  \n",
       "2010    140085.0      680.0      1567.0  \n",
       "2011    135611.0      662.0      1498.0  \n",
       "2012    127691.0      582.0      1432.0  \n",
       "2013    118420.0      574.0      1362.0  \n",
       "2014    102817.0      526.0      1249.0  \n",
       "2015     91328.0      495.0      1144.0  \n",
       "2016     77190.0      456.0      1383.0  \n",
       "2017     65514.0      513.0      1262.0  \n",
       "2018     66510.0      531.0      1326.0  "
      ]
     },
     "execution_count": 46,
     "metadata": {},
     "output_type": "execute_result"
    }
   ],
   "source": [
    "calosc_Polska.groupby(['rok','rodzaj'])['stwierdzone'].sum().unstack()"
   ]
  },
  {
   "cell_type": "code",
   "execution_count": 47,
   "metadata": {},
   "outputs": [
    {
     "data": {
      "text/plain": [
       "<matplotlib.axes._subplots.AxesSubplot at 0x7f104954f220>"
      ]
     },
     "execution_count": 47,
     "metadata": {},
     "output_type": "execute_result"
    },
    {
     "data": {
      "image/png": "[encoded data removed]",
      "text/plain": [
       "<Figure size 1440x504 with 1 Axes>"
      ]
     },
     "metadata": {
      "needs_background": "light"
     },
     "output_type": "display_data"
    }
   ],
   "source": [
    "calosc_Polska.groupby(['rok','rodzaj'])['stwierdzone'].sum().unstack().plot(kind='bar', stacked=True, figsize=(20,7))"
   ]
  },
  {
   "cell_type": "code",
   "execution_count": null,
   "metadata": {},
   "outputs": [],
   "source": []
  }
 ],
 "metadata": {
  "kernelspec": {
   "display_name": "Python 3",
   "language": "python",
   "name": "python3"
  },
  "language_info": {
   "codemirror_mode": {
    "name": "ipython",
    "version": 3
   },
   "file_extension": ".py",
   "mimetype": "text/x-python",
   "name": "python",
   "nbconvert_exporter": "python",
   "pygments_lexer": "ipython3",
   "version": "3.8.2"
  }
 },
 "nbformat": 4,
 "nbformat_minor": 4
}
